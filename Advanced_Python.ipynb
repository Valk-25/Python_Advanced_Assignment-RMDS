{
  "nbformat": 4,
  "nbformat_minor": 0,
  "metadata": {
    "colab": {
      "provenance": [],
      "include_colab_link": true
    },
    "kernelspec": {
      "name": "python3",
      "display_name": "Python 3"
    },
    "language_info": {
      "name": "python"
    }
  },
  "cells": [
    {
      "cell_type": "markdown",
      "metadata": {
        "id": "view-in-github",
        "colab_type": "text"
      },
      "source": [
        "<a href=\"https://colab.research.google.com/github/Valk-25/Python_Advanced_Assignment-RMDS/blob/main/Advanced_Python.ipynb\" target=\"_parent\"><img src=\"https://colab.research.google.com/assets/colab-badge.svg\" alt=\"Open In Colab\"/></a>"
      ]
    },
    {
      "cell_type": "markdown",
      "source": [
        "------------------------------------------------------------------------\n",
        "# Advance Python Assignments\n",
        "\n",
        "------------------------------------------------------------------------"
      ],
      "metadata": {
        "id": "H1bPdUC6T3B4"
      }
    },
    {
      "cell_type": "markdown",
      "source": [
        "### Part I: Process Automation"
      ],
      "metadata": {
        "id": "CGcitDvTUHyY"
      }
    },
    {
      "cell_type": "markdown",
      "source": [
        "##### Q1. Create a file that contains 1000 lines of random strings."
      ],
      "metadata": {
        "id": "OrDXfg4qUQjW"
      }
    },
    {
      "cell_type": "code",
      "execution_count": null,
      "metadata": {
        "colab": {
          "base_uri": "https://localhost:8080/"
        },
        "id": "0jLtF_wkTys9",
        "outputId": "67124529-36b2-42a0-fef7-e94c606aed41"
      },
      "outputs": [
        {
          "output_type": "stream",
          "name": "stdout",
          "text": [
            "Done!!!\n"
          ]
        }
      ],
      "source": [
        "import random as r\n",
        "import string as s\n",
        "with open('randomQ1.txt','w') as f:\n",
        "  for i in range(1000):\n",
        "    random_str=\"\".join(r.choices(s.ascii_letters,k=5))\n",
        "    f.write(random_str + \"\\n\")\n",
        "print(\"Done!!!\")"
      ]
    },
    {
      "cell_type": "markdown",
      "source": [
        "##### Q2. Create a file that contains multiple lines of random strings and file size must be 5 MB."
      ],
      "metadata": {
        "id": "WQ7VAmG4V0SG"
      }
    },
    {
      "cell_type": "code",
      "source": [
        "import random as r\n",
        "import string as s\n",
        "limit_size=5*1024*1024\n",
        "with open('randomQ2.txt','w') as f:\n",
        "  cur_size=0\n",
        "  while cur_size<limit_size:\n",
        "    random_str=\"\".join(r.choices(s.ascii_letters,k=5)) + \"\\n\"\n",
        "    str_size=len(random_str.encode('utf-8'))\n",
        "    if (cur_size+str_size)>limit_size:\n",
        "      break\n",
        "    f.write(random_str)\n",
        "    cur_size+=str_size\n",
        "print(\"Done!!!\")"
      ],
      "metadata": {
        "colab": {
          "base_uri": "https://localhost:8080/"
        },
        "id": "ZMHUfAg4V4qs",
        "outputId": "60414115-053e-4063-b9d0-07f756ec290b"
      },
      "execution_count": null,
      "outputs": [
        {
          "output_type": "stream",
          "name": "stdout",
          "text": [
            "Done!!!\n"
          ]
        }
      ]
    },
    {
      "cell_type": "markdown",
      "source": [
        "#####Q3. Create 10 files that contains multiple lines of random strings and file size of each file must be 5 MB."
      ],
      "metadata": {
        "id": "Npgk-R5EX6eN"
      }
    },
    {
      "cell_type": "code",
      "source": [
        "import random as r\n",
        "import string as s\n",
        "limit_size=5*1024*1024\n",
        "number_of_files=10\n",
        "for i in range(number_of_files):\n",
        "  name=f\"randomQ3_{i+1}.txt\"\n",
        "  with open(name,'w') as f:\n",
        "    cur_size=0\n",
        "    while cur_size<limit_size:\n",
        "      random_str=\"\".join(r.choices(s.ascii_letters,k=5)) + \"\\n\"\n",
        "      str_size=len(random_str.encode('utf-8'))\n",
        "      if (cur_size+str_size)>limit_size:\n",
        "        break\n",
        "      f.write(random_str)\n",
        "      cur_size+=str_size\n",
        "print(\"Done!!!\")"
      ],
      "metadata": {
        "colab": {
          "base_uri": "https://localhost:8080/"
        },
        "id": "FRcjZcF4YPG4",
        "outputId": "90eb94dd-16a0-433e-c9b4-ac323e0a5c3d"
      },
      "execution_count": null,
      "outputs": [
        {
          "output_type": "stream",
          "name": "stdout",
          "text": [
            "Done!!!\n"
          ]
        }
      ]
    },
    {
      "cell_type": "markdown",
      "source": [
        "##### Q4. Create 5 files of size 1GB, 2GB, 3GB, 4GB and 5GB; file contains multiple lines of random strings."
      ],
      "metadata": {
        "id": "Gwpgt_qPZGao"
      }
    },
    {
      "cell_type": "code",
      "source": [
        "import random as r\n",
        "import string as s\n",
        "base_limit_size=1024*1024\n",
        "number_of_files=5\n",
        "for i in range(number_of_files):\n",
        "  limit_size=(i+1)*base_limit_size\n",
        "  name=f\"randomQ4_{i+1}.txt\"\n",
        "  with open(name,'w') as f:\n",
        "    cur_size=0\n",
        "    while cur_size<limit_size:\n",
        "      random_str=\"\".join(r.choices(s.ascii_letters,k=5)) + \"\\n\"\n",
        "      str_size=len(random_str.encode('utf-8'))\n",
        "      if (cur_size+str_size)>limit_size:\n",
        "        break\n",
        "      f.write(random_str)\n",
        "      cur_size+=str_size\n",
        "print(\"Done!!!\")"
      ],
      "metadata": {
        "colab": {
          "base_uri": "https://localhost:8080/"
        },
        "id": "0E78L8QxZMaQ",
        "outputId": "fbaca0e0-fbb8-4252-d108-9ff74061544f"
      },
      "execution_count": null,
      "outputs": [
        {
          "output_type": "stream",
          "name": "stdout",
          "text": [
            "Done!!!\n"
          ]
        }
      ]
    },
    {
      "cell_type": "code",
      "source": [
        "print(\"check the 1st 5 strings of 1st file\")\n",
        "i=0\n",
        "with open('randomQ4_1.txt') as tryf:\n",
        "  for line in tryf:\n",
        "    i+=1\n",
        "    print(line.strip())\n",
        "    if i==5:\n",
        "      break"
      ],
      "metadata": {
        "colab": {
          "base_uri": "https://localhost:8080/"
        },
        "id": "crd2Lv_7hBJD",
        "outputId": "8d8cf3b0-3800-4e65-9c85-22dbc6d762a0"
      },
      "execution_count": null,
      "outputs": [
        {
          "output_type": "stream",
          "name": "stdout",
          "text": [
            "check the 1st 5 strings of 1st file\n",
            "GyDKS\n",
            "QOxxF\n",
            "xxSrN\n",
            "oJEUY\n",
            "wdVKD\n"
          ]
        }
      ]
    },
    {
      "cell_type": "markdown",
      "source": [
        "#####Q5. Convert all the files of Q4 into upper case one by one.\n"
      ],
      "metadata": {
        "id": "rSfXTnOeiUXy"
      }
    },
    {
      "cell_type": "code",
      "source": [
        "number_of_files=5\n",
        "for i in range(number_of_files):\n",
        "  name=f\"randomQ4_{i+1}.txt\"\n",
        "  with open(name) as f:\n",
        "    contents=f.read()\n",
        "  with open(name,'w') as f:\n",
        "    f.write(contents.upper())\n",
        "print(\"Done!!!\")"
      ],
      "metadata": {
        "colab": {
          "base_uri": "https://localhost:8080/"
        },
        "id": "iOjdyQtWjFjk",
        "outputId": "f07ca4b8-3acb-4c72-a3a3-f702a91a7633"
      },
      "execution_count": null,
      "outputs": [
        {
          "output_type": "stream",
          "name": "stdout",
          "text": [
            "Done!!!\n"
          ]
        }
      ]
    },
    {
      "cell_type": "code",
      "source": [
        "print(\"check the 1st 5 strings of 1st file\")\n",
        "i=0\n",
        "with open('randomQ4_1.txt') as tryf:\n",
        "  for line in tryf:\n",
        "    i+=1\n",
        "    print(line.strip())\n",
        "    if i==5:\n",
        "      break"
      ],
      "metadata": {
        "colab": {
          "base_uri": "https://localhost:8080/"
        },
        "id": "OXQGmfz2kL3v",
        "outputId": "e4ccea6c-e07f-4698-d5d4-303b515883d5"
      },
      "execution_count": null,
      "outputs": [
        {
          "output_type": "stream",
          "name": "stdout",
          "text": [
            "check the 1st 5 strings of 1st file\n",
            "GYDKS\n",
            "QOXXF\n",
            "XXSRN\n",
            "OJEUY\n",
            "WDVKD\n"
          ]
        }
      ]
    },
    {
      "cell_type": "markdown",
      "source": [
        "#####Q6. Convert all the files of Q4 into upper case parallel using multi-threading."
      ],
      "metadata": {
        "id": "xm2dTXDNYmDU"
      }
    },
    {
      "cell_type": "markdown",
      "source": [
        "#####Q7. WAP to automatically download 10 images of cat from “Google Images”. [Hint: Find the package from pypi.org and use it]"
      ],
      "metadata": {
        "id": "2xas9SI8YzL7"
      }
    },
    {
      "cell_type": "code",
      "source": [
        "!pip install google_images_download"
      ],
      "metadata": {
        "colab": {
          "base_uri": "https://localhost:8080/"
        },
        "id": "C-EsoIOjlP4j",
        "outputId": "98d62f96-de71-4378-c3d2-1d6698228756"
      },
      "execution_count": null,
      "outputs": [
        {
          "output_type": "stream",
          "name": "stdout",
          "text": [
            "Looking in indexes: https://pypi.org/simple, https://us-python.pkg.dev/colab-wheels/public/simple/\n",
            "Collecting google_images_download\n",
            "  Downloading google_images_download-2.8.0.tar.gz (14 kB)\n",
            "  Preparing metadata (setup.py) ... \u001b[?25l\u001b[?25hdone\n",
            "Requirement already satisfied: selenium in /usr/local/lib/python3.10/dist-packages (from google_images_download) (4.10.0)\n",
            "Requirement already satisfied: urllib3[socks]<3,>=1.26 in /usr/local/lib/python3.10/dist-packages (from selenium->google_images_download) (1.26.16)\n",
            "Requirement already satisfied: trio~=0.17 in /usr/local/lib/python3.10/dist-packages (from selenium->google_images_download) (0.22.0)\n",
            "Requirement already satisfied: trio-websocket~=0.9 in /usr/local/lib/python3.10/dist-packages (from selenium->google_images_download) (0.10.3)\n",
            "Requirement already satisfied: certifi>=2021.10.8 in /usr/local/lib/python3.10/dist-packages (from selenium->google_images_download) (2023.5.7)\n",
            "Requirement already satisfied: attrs>=19.2.0 in /usr/local/lib/python3.10/dist-packages (from trio~=0.17->selenium->google_images_download) (23.1.0)\n",
            "Requirement already satisfied: sortedcontainers in /usr/local/lib/python3.10/dist-packages (from trio~=0.17->selenium->google_images_download) (2.4.0)\n",
            "Requirement already satisfied: async-generator>=1.9 in /usr/local/lib/python3.10/dist-packages (from trio~=0.17->selenium->google_images_download) (1.10)\n",
            "Requirement already satisfied: idna in /usr/local/lib/python3.10/dist-packages (from trio~=0.17->selenium->google_images_download) (3.4)\n",
            "Requirement already satisfied: outcome in /usr/local/lib/python3.10/dist-packages (from trio~=0.17->selenium->google_images_download) (1.2.0)\n",
            "Requirement already satisfied: sniffio in /usr/local/lib/python3.10/dist-packages (from trio~=0.17->selenium->google_images_download) (1.3.0)\n",
            "Requirement already satisfied: exceptiongroup>=1.0.0rc9 in /usr/local/lib/python3.10/dist-packages (from trio~=0.17->selenium->google_images_download) (1.1.1)\n",
            "Requirement already satisfied: wsproto>=0.14 in /usr/local/lib/python3.10/dist-packages (from trio-websocket~=0.9->selenium->google_images_download) (1.2.0)\n",
            "Requirement already satisfied: PySocks!=1.5.7,<2.0,>=1.5.6 in /usr/local/lib/python3.10/dist-packages (from urllib3[socks]<3,>=1.26->selenium->google_images_download) (1.7.1)\n",
            "Requirement already satisfied: h11<1,>=0.9.0 in /usr/local/lib/python3.10/dist-packages (from wsproto>=0.14->trio-websocket~=0.9->selenium->google_images_download) (0.14.0)\n",
            "Building wheels for collected packages: google_images_download\n",
            "  Building wheel for google_images_download (setup.py) ... \u001b[?25l\u001b[?25hdone\n",
            "  Created wheel for google_images_download: filename=google_images_download-2.8.0-py2.py3-none-any.whl size=14533 sha256=7ed34610599e826499db7ed5c4979e2ec562a1bcf776110b06cf50f0d3a5d5fd\n",
            "  Stored in directory: /root/.cache/pip/wheels/5b/f2/64/0eecb22fee5cbc0321d332492ddcc45b03c6373b5616ee95c8\n",
            "Successfully built google_images_download\n",
            "Installing collected packages: google_images_download\n",
            "Successfully installed google_images_download-2.8.0\n"
          ]
        }
      ]
    },
    {
      "cell_type": "code",
      "source": [
        "from google_images_download import google_images_download   #importing the library\n",
        "\n",
        "response = google_images_download.googleimagesdownload()   #class instantiation\n",
        "\n",
        "arguments = {\"keywords\":\"Cat\",\"limit\":10,\"print_urls\":True}   #creating list of arguments\n",
        "paths = response.download(arguments)   #passing the arguments to the function\n",
        "print(paths)"
      ],
      "metadata": {
        "colab": {
          "base_uri": "https://localhost:8080/"
        },
        "id": "FKOM4isGlU9_",
        "outputId": "d1326650-9fb3-4253-c61e-29e78466611b"
      },
      "execution_count": null,
      "outputs": [
        {
          "output_type": "stream",
          "name": "stdout",
          "text": [
            "\n",
            "Item no.: 1 --> Item name = Cat\n",
            "Evaluating...\n",
            "Starting Download...\n",
            "\n",
            "\n",
            "Unfortunately all 10 could not be downloaded because some images were not downloadable. 0 is all we got for this search filter!\n",
            "\n",
            "Errors: 0\n",
            "\n",
            "({'Cat': []}, 0)\n"
          ]
        }
      ]
    },
    {
      "cell_type": "markdown",
      "source": [
        "#####Q8. WAP to automatically download 10 videos of “Machine Learning” from “Youtube.com”. [Hint: Find the package from pypi.org and use it]"
      ],
      "metadata": {
        "id": "rO8NpYZQJliB"
      }
    },
    {
      "cell_type": "code",
      "source": [
        "!pip install youtube-search"
      ],
      "metadata": {
        "colab": {
          "base_uri": "https://localhost:8080/"
        },
        "id": "tAG9n2eEKj8l",
        "outputId": "b289912c-7dc9-4ffd-8e0d-559f5ead6fc3"
      },
      "execution_count": null,
      "outputs": [
        {
          "output_type": "stream",
          "name": "stdout",
          "text": [
            "Looking in indexes: https://pypi.org/simple, https://us-python.pkg.dev/colab-wheels/public/simple/\n",
            "Collecting youtube-search\n",
            "  Downloading youtube_search-2.1.2-py3-none-any.whl (3.4 kB)\n",
            "Requirement already satisfied: requests in /usr/local/lib/python3.10/dist-packages (from youtube-search) (2.27.1)\n",
            "Requirement already satisfied: urllib3<1.27,>=1.21.1 in /usr/local/lib/python3.10/dist-packages (from requests->youtube-search) (1.26.16)\n",
            "Requirement already satisfied: certifi>=2017.4.17 in /usr/local/lib/python3.10/dist-packages (from requests->youtube-search) (2023.5.7)\n",
            "Requirement already satisfied: charset-normalizer~=2.0.0 in /usr/local/lib/python3.10/dist-packages (from requests->youtube-search) (2.0.12)\n",
            "Requirement already satisfied: idna<4,>=2.5 in /usr/local/lib/python3.10/dist-packages (from requests->youtube-search) (3.4)\n",
            "Installing collected packages: youtube-search\n",
            "Successfully installed youtube-search-2.1.2\n"
          ]
        }
      ]
    },
    {
      "cell_type": "code",
      "source": [
        "from youtube_search import YoutubeSearch\n",
        "results = YoutubeSearch('Machine Learning', max_results=10).to_dict()\n",
        "print(results)"
      ],
      "metadata": {
        "colab": {
          "base_uri": "https://localhost:8080/"
        },
        "id": "o62ihxTfKqyk",
        "outputId": "3f0d629e-7874-4def-9c64-e34b1632a7d8"
      },
      "execution_count": null,
      "outputs": [
        {
          "output_type": "stream",
          "name": "stdout",
          "text": [
            "[{'id': 'ukzFI9rgwfU', 'thumbnails': ['https://i.ytimg.com/vi/ukzFI9rgwfU/hq720.jpg?sqp=-oaymwEjCOgCEMoBSFryq4qpAxUIARUAAAAAGAElAADIQj0AgKJDeAE=&rs=AOn4CLCT8jCmTN7eO6EMBg2ZQhrcMvHNEg', 'https://i.ytimg.com/vi/ukzFI9rgwfU/hq720.jpg?sqp=-oaymwEXCNAFEJQDSFryq4qpAwkIARUAAIhCGAE=&rs=AOn4CLBabPwMvRRu0nNZ6J1yiNEPlIqMGw'], 'title': 'Machine Learning | What Is Machine Learning? | Introduction To Machine Learning | 2021 | Simplilearn', 'long_desc': None, 'channel': 'Simplilearn', 'duration': '7:52', 'views': '3,856,769 views', 'publish_time': '4 years ago', 'url_suffix': '/watch?v=ukzFI9rgwfU&pp=ygUQTWFjaGluZSBMZWFybmluZw%3D%3D'}, {'id': '4RixMPF4xis', 'thumbnails': ['https://i.ytimg.com/vi/4RixMPF4xis/hq720.jpg?sqp=-oaymwEjCOgCEMoBSFryq4qpAxUIARUAAAAAGAElAADIQj0AgKJDeAE=&rs=AOn4CLACTidfDGB9Cxh2tolDGn_FBMlFmQ', 'https://i.ytimg.com/vi/4RixMPF4xis/hq720.jpg?sqp=-oaymwEXCNAFEJQDSFryq4qpAwkIARUAAIhCGAE=&rs=AOn4CLD4unZQIzdUwX6nEHRbalEBQuW16g'], 'title': 'AI vs Machine Learning', 'long_desc': None, 'channel': 'IBM Technology', 'duration': '5:49', 'views': '292,234 views', 'publish_time': '2 months ago', 'url_suffix': '/watch?v=4RixMPF4xis&pp=ygUQTWFjaGluZSBMZWFybmluZw%3D%3D'}, {'id': 'i_LwzRVP7bg', 'thumbnails': ['https://i.ytimg.com/vi/i_LwzRVP7bg/hq720.jpg?sqp=-oaymwEjCOgCEMoBSFryq4qpAxUIARUAAAAAGAElAADIQj0AgKJDeAE=&rs=AOn4CLAuHi03X9nJZwr9kcm1d_8MQ7Pvkw', 'https://i.ytimg.com/vi/i_LwzRVP7bg/hq720.jpg?sqp=-oaymwEXCNAFEJQDSFryq4qpAwkIARUAAIhCGAE=&rs=AOn4CLACaeXPjvgbiBex8DSWL7c9NKnRXQ'], 'title': 'Machine Learning for Everybody – Full Course', 'long_desc': None, 'channel': 'freeCodeCamp.org', 'duration': '3:53:53', 'views': '1,436,293 views', 'publish_time': '9 months ago', 'url_suffix': '/watch?v=i_LwzRVP7bg&pp=ygUQTWFjaGluZSBMZWFybmluZw%3D%3D'}, {'id': '5q87K1WaoFI', 'thumbnails': ['https://i.ytimg.com/vi/5q87K1WaoFI/hq720.jpg?sqp=-oaymwEjCOgCEMoBSFryq4qpAxUIARUAAAAAGAElAADIQj0AgKJDeAE=&rs=AOn4CLCpSr317j-M5qDaibnrzhtxcdnhyQ', 'https://i.ytimg.com/vi/5q87K1WaoFI/hq720.jpg?sqp=-oaymwEXCNAFEJQDSFryq4qpAwkIARUAAIhCGAE=&rs=AOn4CLCRySQeEvMNP5c6pyE41WkuwC8wwg'], 'title': 'Computer Scientist Explains Machine Learning in 5 Levels of Difficulty | WIRED', 'long_desc': None, 'channel': 'WIRED', 'duration': '26:09', 'views': '1,902,034 views', 'publish_time': '1 year ago', 'url_suffix': '/watch?v=5q87K1WaoFI&pp=ygUQTWFjaGluZSBMZWFybmluZw%3D%3D'}, {'id': 'PeMlggyqz0Y', 'thumbnails': ['https://i.ytimg.com/vi/PeMlggyqz0Y/hq720.jpg?sqp=-oaymwEjCOgCEMoBSFryq4qpAxUIARUAAAAAGAElAADIQj0AgKJDeAE=&rs=AOn4CLDiHeZ-aFYx5AOqYiyrVdJ8tmmSmw', 'https://i.ytimg.com/vi/PeMlggyqz0Y/hq720.jpg?sqp=-oaymwEXCNAFEJQDSFryq4qpAwkIARUAAIhCGAE=&rs=AOn4CLDXKvu2n2TCea1IU4-QEeYhT8LJvw'], 'title': 'Machine Learning Explained in 100 Seconds', 'long_desc': None, 'channel': 'Fireship', 'duration': '2:35', 'views': '324,972 views', 'publish_time': '1 year ago', 'url_suffix': '/watch?v=PeMlggyqz0Y&pp=ygUQTWFjaGluZSBMZWFybmluZw%3D%3D'}, {'id': '7SDchsEResw', 'thumbnails': ['https://i.ytimg.com/vi/7SDchsEResw/hqdefault.jpg?sqp=-oaymwEjCOADEI4CSFryq4qpAxUIARUAAAAAGAElAADIQj0AgKJDeAE=&rs=AOn4CLDV2VO0i8F4tEb7Iw1LA1DusvJNsA'], 'title': 'L-14 | Covariance in Hindi | Data Science, AI, Machine Learning', 'long_desc': None, 'channel': 'Data Dissection ', 'duration': '12:19', 'views': '15 views', 'publish_time': '2 days ago', 'url_suffix': '/watch?v=7SDchsEResw&pp=ygUQTWFjaGluZSBMZWFybmluZw%3D%3D'}, {'id': 'V_xro1bcAuA', 'thumbnails': ['https://i.ytimg.com/vi/V_xro1bcAuA/hq720.jpg?sqp=-oaymwEjCOgCEMoBSFryq4qpAxUIARUAAAAAGAElAADIQj0AgKJDeAE=&rs=AOn4CLAzz-3UAv_qAw88o4oCJjGE8UgINg', 'https://i.ytimg.com/vi/V_xro1bcAuA/hq720.jpg?sqp=-oaymwEXCNAFEJQDSFryq4qpAwkIARUAAIhCGAE=&rs=AOn4CLCpIhdt6SgbT_f2cJzhxdKQbfq4HQ'], 'title': 'PyTorch for Deep Learning & Machine Learning – Full Course', 'long_desc': None, 'channel': 'freeCodeCamp.org', 'duration': '25:37:26', 'views': '663,452 views', 'publish_time': '8 months ago', 'url_suffix': '/watch?v=V_xro1bcAuA&pp=ygUQTWFjaGluZSBMZWFybmluZw%3D%3D'}, {'id': 'L_4BPjLBF4E', 'thumbnails': ['https://i.ytimg.com/vi/L_4BPjLBF4E/hq720.jpg?sqp=-oaymwEjCOgCEMoBSFryq4qpAxUIARUAAAAAGAElAADIQj0AgKJDeAE=&rs=AOn4CLA_a-PQ5thyBMynysRJWjtbPeTafQ', 'https://i.ytimg.com/vi/L_4BPjLBF4E/hq720.jpg?sqp=-oaymwEXCNAFEJQDSFryq4qpAwkIARUAAIhCGAE=&rs=AOn4CLBCetCu4A5uxznEPb7ekotYn96PoA'], 'title': 'AI Learns to Walk (deep reinforcement learning)', 'long_desc': None, 'channel': 'AI Warehouse', 'duration': '8:40', 'views': '4,608,789 views', 'publish_time': '2 months ago', 'url_suffix': '/watch?v=L_4BPjLBF4E&pp=ygUQTWFjaGluZSBMZWFybmluZw%3D%3D'}, {'id': '9gGnTQTYNaE', 'thumbnails': ['https://i.ytimg.com/vi/9gGnTQTYNaE/hq720.jpg?sqp=-oaymwEjCOgCEMoBSFryq4qpAxUIARUAAAAAGAElAADIQj0AgKJDeAE=&rs=AOn4CLCS9inwbSYKDKxYj1S37HLSDZv-ug', 'https://i.ytimg.com/vi/9gGnTQTYNaE/hq720.jpg?sqp=-oaymwEXCNAFEJQDSFryq4qpAwkIARUAAIhCGAE=&rs=AOn4CLDv58zgh0vzMwaWfLZQ9PWGDmqgBA'], 'title': 'What is Machine Learning?', 'long_desc': None, 'channel': 'IBM Technology', 'duration': '8:23', 'views': '75,322 views', 'publish_time': '1 year ago', 'url_suffix': '/watch?v=9gGnTQTYNaE&pp=ygUQTWFjaGluZSBMZWFybmluZw%3D%3D'}, {'id': 'GwIo3gDZCVQ', 'thumbnails': ['https://i.ytimg.com/vi/GwIo3gDZCVQ/hq720.jpg?sqp=-oaymwEjCOgCEMoBSFryq4qpAxUIARUAAAAAGAElAADIQj0AgKJDeAE=&rs=AOn4CLBgtYtFJ4JDMZiTwbn09D9NmHArZg', 'https://i.ytimg.com/vi/GwIo3gDZCVQ/hq720.jpg?sqp=-oaymwEXCNAFEJQDSFryq4qpAwkIARUAAIhCGAE=&rs=AOn4CLDTvg67I9otESt8qGBe-zlcgKXIEg'], 'title': 'Machine Learning Full Course - Learn Machine Learning 10 Hours | Machine Learning Tutorial | Edureka', 'long_desc': None, 'channel': 'edureka!', 'duration': '9:38:32', 'views': '2,736,712 views', 'publish_time': '3 years ago', 'url_suffix': '/watch?v=GwIo3gDZCVQ&pp=ygUQTWFjaGluZSBMZWFybmluZw%3D%3D'}]\n"
          ]
        }
      ]
    },
    {
      "cell_type": "code",
      "source": [
        "!pip install khtube"
      ],
      "metadata": {
        "colab": {
          "base_uri": "https://localhost:8080/"
        },
        "id": "6QB1dmsGJrQr",
        "outputId": "29e621b9-3d31-4865-b41b-089f5ec0d115"
      },
      "execution_count": null,
      "outputs": [
        {
          "output_type": "stream",
          "name": "stdout",
          "text": [
            "Looking in indexes: https://pypi.org/simple, https://us-python.pkg.dev/colab-wheels/public/simple/\n",
            "Requirement already satisfied: khtube in /usr/local/lib/python3.10/dist-packages (0.9.26)\n",
            "Requirement already satisfied: youtube-dl in /usr/local/lib/python3.10/dist-packages (from khtube) (2021.12.17)\n",
            "Requirement already satisfied: googledrivedownloader in /usr/local/lib/python3.10/dist-packages (from khtube) (0.4)\n"
          ]
        }
      ]
    },
    {
      "cell_type": "code",
      "source": [
        "import khtube\n",
        "\n",
        "khtube.single_video(\"https://www.youtube.com/watch?v=P4fCFom_KzI\")"
      ],
      "metadata": {
        "colab": {
          "base_uri": "https://localhost:8080/"
        },
        "id": "xENbYj-wO-jh",
        "outputId": "fa66a8ca-4bec-43c6-fc66-9ad21df8a97b"
      },
      "execution_count": null,
      "outputs": [
        {
          "output_type": "stream",
          "name": "stdout",
          "text": [
            "Downloading in progress ......\n",
            "Please wait...\n",
            "b'[youtube] P4fCFom_KzI: Downloading webpage'\n"
          ]
        }
      ]
    },
    {
      "cell_type": "markdown",
      "source": [
        "\n",
        "#####Q9. Convert all the videos of Q8 and convert it to audio. [Hint: Find the package from pypi.org and use it]\n",
        "\n",
        "#####Q10. Create an automated pipeline using multi-threading for: “Automatic Download of 100 Videos from YouTube”→“Convert it to Audio”.\n",
        "\n",
        "#####Q11. Create an automated pipeline using multi-threading for: “Automatic Download of 500 images of Dog from GoogleImages”→“Rescale it to 50%”."
      ],
      "metadata": {
        "id": "_IN2hwmhkqGA"
      }
    },
    {
      "cell_type": "markdown",
      "source": [
        "###Part II: Data Analytics"
      ],
      "metadata": {
        "id": "N7QrN_aolVFC"
      }
    },
    {
      "cell_type": "markdown",
      "source": [
        "#####Q12. Create a random dataset of 100 rows and 30 columns. All the values are defined between [1,200]. Perform the following operations:\n",
        "\n",
        "(i) Replace all the values with NA in the dataset defined between [10, 60]. Print the count of number rows having missing values.\n",
        "\n",
        "(ii) Replace all the NA values with the average of the column value.\n",
        "\n",
        "(iii) Find the Pearson correlation among all the columns and plot heat map. Also select those columns having correlation <=0.7.\n",
        "\n",
        "(iv) Normalize all the values in the dataset between 0 and 10.\n",
        "\n",
        "(v) Replace all the values in the dataset with 1 if value <=0.5 else with 0."
      ],
      "metadata": {
        "id": "xh_ZBe1_le9n"
      }
    },
    {
      "cell_type": "code",
      "source": [
        "import pandas as pd\n",
        "df=pd.dataframe()"
      ],
      "metadata": {
        "id": "DejquYeflw7H"
      },
      "execution_count": null,
      "outputs": []
    },
    {
      "cell_type": "markdown",
      "source": [
        "#####Q13. Create a random dataset of 500 rows and 10 columns.\n",
        "\n",
        "Columns 1 to 4 are defined between [-10, 10];\n",
        "\n",
        "Columns 5 to 8 are defined between [10, 20];\n",
        "\n",
        "Columns 9 to 10 are defined between [-100, 100].\n",
        "\n",
        "Apply following clustering algorithms; determine the optimal number of clusters and plot distance metric graph using each algorithm.\n",
        "\n",
        "(i) K-Mean clustering\n",
        "\n",
        "(ii) Hierarchical clustering\n",
        "\n",
        "#####Q14. Create a random dataset of 600 rows and 15 columns. All the values are defined between [-100,100]. Perform the following operations:\n",
        "\n",
        "(i) Plot scatter graph between Column 5 and Column 6.\n",
        "\n",
        "(ii) Plot histogram of each column in single graph.\n",
        "\n",
        "(iii) Plot the Box plot of each column in single graph.\n",
        "\n",
        "#####Q15. Create a random dataset of 500 rows and 5 columns: All the values are defined between [5,10].\n",
        "\n",
        "Perform the following operations:\n",
        "\n",
        "(i) Perform t-Test on each column.\n",
        "\n",
        "(ii) Perform Wilcoxon Signed Rank Test on each column.\n",
        "\n",
        "(iii) Perform Two Sample t-Test and Wilcoxon Rank Sum Test on Column 3 and Column 4"
      ],
      "metadata": {
        "id": "yuAcLa5-lxTG"
      }
    }
  ]
}